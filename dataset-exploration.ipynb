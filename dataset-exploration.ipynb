{
 "cells": [
  {
   "cell_type": "code",
   "execution_count": 8,
   "metadata": {},
   "outputs": [
    {
     "name": "stdout",
     "output_type": "stream",
     "text": [
      "The autoreload extension is already loaded. To reload it, use:\n",
      "  %reload_ext autoreload\n"
     ]
    }
   ],
   "source": [
    "import os\n",
    "import numpy as np\n",
    "import collections\n",
    "import random\n",
    "from dataset import TextDataset\n",
    "from torch.utils.data import DataLoader\n",
    "\n",
    "%load_ext autoreload\n",
    "%autoreload 2"
   ]
  },
  {
   "cell_type": "code",
   "execution_count": 6,
   "metadata": {},
   "outputs": [],
   "source": [
    "data_dir = './data'\n",
    "split_names = ['test']"
   ]
  },
  {
   "cell_type": "code",
   "execution_count": 7,
   "metadata": {},
   "outputs": [
    {
     "name": "stdout",
     "output_type": "stream",
     "text": [
      "Split: test\n",
      "['\\n', ' ', '!', '\"', '#', '$', '%', '&', \"'\", '(', ')', '*', '+', ',', '-', '.', '/', '0', '1', '2', '3', '4', '5', '6', '7', '8', '9', ':', ';', '<', '>', '?', '@', 'A', 'B', 'C', 'D', 'E', 'F', 'G', 'H', 'I', 'J', 'K', 'L', 'M', 'N', 'O', 'P', 'Q', 'R', 'S', 'T', 'U', 'V', 'W', 'X', 'Y', 'Z', '[', '\\\\', ']', '^', '_', '`', 'a', 'b', 'c', 'd', 'e', 'f', 'g', 'h', 'i', 'j', 'k', 'l', 'm', 'n', 'o', 'p', 'q', 'r', 's', 't', 'u', 'v', 'w', 'x', 'y', 'z', '|', '~', '£', '®', '´', 'º', '»', '½', '¾', '¿', 'Â', 'Ö', 'á', 'ä', 'ç', 'è', 'é', 'í', 'î', 'ï', 'ñ', 'ó', 'ô', 'ö', 'ø', 'ú', 'ü', 'š', '–', '—', '‘', '•', '…', '€', '�']\n",
      "126\n",
      "10001 sentences\n",
      "1\n",
      "25.05909409059094\n",
      "413\n"
     ]
    }
   ],
   "source": [
    "lengths = []\n",
    "\n",
    "for split_name in split_names:\n",
    "    file_path = os.path.join(data_dir, '{}.src'.format(split_name))\n",
    "    print('Split: {}'.format(split_name))\n",
    "    \n",
    "    alphabet = set()\n",
    "    \n",
    "    with open(file_path, 'r') as f:\n",
    "        text = f.read()\n",
    "\n",
    "    alphabet = set(text)\n",
    "    print(sorted(list(alphabet)))\n",
    "    print(len(alphabet))\n",
    "\n",
    "    lines = text.split('\\n')\n",
    "    print('{} sentences'.format(len(lines)))\n",
    "\n",
    "    lens = [len(line.split(' ')) for line in lines]\n",
    "    print(np.min(lens))\n",
    "    print(np.mean(lens))\n",
    "    print(np.max(lens))\n",
    "    \n",
    "#     # count frequencies of the words\n",
    "#     word_counter = collections.Counter([word.lower() for line in lines for word in line.split(' ')])\n",
    "\n",
    "#     # leaving only words with frequency > 3\n",
    "#     vocab = [word for word, freq in word_counter.items() if freq > 12]\n",
    "#     word2id = {word: _id + 2 for _id, word in enumerate(vocab)}\n",
    "#     word2id['<UNK>'] = 0\n",
    "#     word2id['<PAD>'] = 1\n",
    "\n",
    "#     print(len(word2id))\n",
    "\n",
    "    break"
   ]
  },
  {
   "cell_type": "code",
   "execution_count": null,
   "metadata": {},
   "outputs": [],
   "source": [
    "data = numpy.random.random(100)\n",
    "bins = numpy.linspace(0, 1, 10)\n",
    "digitized = numpy.digitize(data, bins)\n",
    "bin_means = [data[digitized == i].mean() for i in range(1, len(bins))]"
   ]
  },
  {
   "cell_type": "code",
   "execution_count": null,
   "metadata": {},
   "outputs": [],
   "source": [
    "# count frequencies of the words\n",
    "word_counter = collections.Counter([word.lower() for sent in train_set for word, tag in sent])\n",
    "\n",
    "# leaving only words with frequency > 3\n",
    "vocab = [word for word, freq in word_counter.items() if freq > 3]\n",
    "word2ids = {word: _id + 2 for _id, word in enumerate(vocab)}\n",
    "word2ids['<UNK>'] = 0\n",
    "word2ids['<PAD>'] = 1"
   ]
  },
  {
   "cell_type": "code",
   "execution_count": 13,
   "metadata": {},
   "outputs": [],
   "source": [
    "d = TextDataset(base_path=data_dir, split_name='val', max_len=100)"
   ]
  },
  {
   "cell_type": "code",
   "execution_count": 14,
   "metadata": {},
   "outputs": [],
   "source": [
    "d_loader = DataLoader(d,\n",
    "                          batch_size=16,\n",
    "                          shuffle=False,\n",
    "                          num_workers=6,\n",
    "                          pin_memory=True,\n",
    "                          drop_last=False,\n",
    "                          timeout=0,\n",
    "                          worker_init_fn=None)"
   ]
  },
  {
   "cell_type": "code",
   "execution_count": 16,
   "metadata": {},
   "outputs": [
    {
     "name": "stdout",
     "output_type": "stream",
     "text": [
      "16\n"
     ]
    }
   ],
   "source": [
    "for batch in d_loader:\n",
    "    batch_lines, batch_labels, line_lenghts = batch\n",
    "    print(len(batch_lines))\n",
    "    break"
   ]
  },
  {
   "cell_type": "code",
   "execution_count": null,
   "metadata": {},
   "outputs": [],
   "source": []
  }
 ],
 "metadata": {
  "kernelspec": {
   "display_name": "Python 3",
   "language": "python",
   "name": "python3"
  },
  "language_info": {
   "codemirror_mode": {
    "name": "ipython",
    "version": 3
   },
   "file_extension": ".py",
   "mimetype": "text/x-python",
   "name": "python",
   "nbconvert_exporter": "python",
   "pygments_lexer": "ipython3",
   "version": "3.8.5"
  }
 },
 "nbformat": 4,
 "nbformat_minor": 4
}
